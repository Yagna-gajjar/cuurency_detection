{
 "cells": [
  {
   "cell_type": "code",
   "execution_count": 1,
   "id": "625265ab",
   "metadata": {},
   "outputs": [],
   "source": [
    "import torch\n",
    "from torch.utils.data import DataLoader\n",
    "from torchvision import datasets, transforms"
   ]
  },
  {
   "cell_type": "markdown",
   "id": "e944ffa0",
   "metadata": {},
   "source": [
    "Data transformation"
   ]
  },
  {
   "cell_type": "code",
   "execution_count": 2,
   "id": "2ac737cf",
   "metadata": {},
   "outputs": [
    {
     "name": "stdout",
     "output_type": "stream",
     "text": [
      "Classes: ['1Hundrednote', '2Hundrednote', '2Thousandnote', '5Hundrednote', 'Fiftynote', 'Tennote', 'Twentynote']\n"
     ]
    }
   ],
   "source": [
    "transform = transforms.Compose([\n",
    "    transforms.Resize((128, 128)),\n",
    "    transforms.RandomRotation(10),\n",
    "    transforms.ColorJitter(brightness=0.2, contrast=0.2),\n",
    "    transforms.RandomHorizontalFlip(),\n",
    "    transforms.ToTensor(),\n",
    "    transforms.Normalize(mean=[0.5, 0.5, 0.5],\n",
    "                         std=[0.5, 0.5, 0.5])\n",
    "])\n",
    "\n",
    "train_data = datasets.ImageFolder('dataset/Train', transform=transform)\n",
    "test_data = datasets.ImageFolder('dataset/Test', transform=transform)\n",
    "\n",
    "train_loader = DataLoader(train_data, batch_size=32, shuffle=True)\n",
    "test_loader = DataLoader(test_data, batch_size=32, shuffle=False)\n",
    "\n",
    "num_classes = len(train_data.classes)\n",
    "print(\"Classes:\", train_data.classes)"
   ]
  },
  {
   "cell_type": "markdown",
   "id": "16a05e01",
   "metadata": {},
   "source": [
    "CNN"
   ]
  },
  {
   "cell_type": "code",
   "execution_count": 3,
   "id": "a350c321",
   "metadata": {},
   "outputs": [],
   "source": [
    "import torch.nn as nn\n",
    "import torch.nn.functional as F\n",
    "\n",
    "class CurrencyCNN(nn.Module):\n",
    "    def __init__(self, num_classes):\n",
    "        super(CurrencyCNN, self).__init__()\n",
    "        self.conv1 = nn.Conv2d(3, 32, 3, padding=1)\n",
    "        self.pool = nn.MaxPool2d(2, 2)\n",
    "        self.conv2 = nn.Conv2d(32, 64, 3, padding=1)\n",
    "        self.conv3 = nn.Conv2d(64, 128, 3, padding=1)\n",
    "        self.fc1 = nn.Linear(128 * 16 * 16, 128)  # depends on image size\n",
    "        self.fc2 = nn.Linear(128, num_classes)\n",
    "        self.dropout = nn.Dropout(0.5)\n",
    "\n",
    "    def forward(self, x):\n",
    "        x = self.pool(F.relu(self.conv1(x)))\n",
    "        x = self.pool(F.relu(self.conv2(x)))\n",
    "        x = self.pool(F.relu(self.conv3(x)))\n",
    "        x = x.view(-1, 128 * 16 * 16)\n",
    "        x = self.dropout(F.relu(self.fc1(x)))\n",
    "        x = self.fc2(x)\n",
    "        return x\n",
    "\n",
    "model = CurrencyCNN(num_classes)\n"
   ]
  },
  {
   "cell_type": "markdown",
   "id": "7a0a345f",
   "metadata": {},
   "source": [
    "Training"
   ]
  },
  {
   "cell_type": "code",
   "execution_count": 4,
   "id": "182ca796",
   "metadata": {},
   "outputs": [
    {
     "name": "stdout",
     "output_type": "stream",
     "text": [
      "Epoch 1/25 | Loss: 1.9821 | Accuracy: 13.73%\n",
      "Epoch 2/25 | Loss: 1.8405 | Accuracy: 21.57%\n",
      "Epoch 3/25 | Loss: 1.5399 | Accuracy: 34.64%\n",
      "Epoch 4/25 | Loss: 1.5188 | Accuracy: 33.33%\n",
      "Epoch 5/25 | Loss: 1.4214 | Accuracy: 41.83%\n",
      "Epoch 6/25 | Loss: 1.3238 | Accuracy: 52.29%\n",
      "Epoch 7/25 | Loss: 1.1450 | Accuracy: 50.33%\n",
      "Epoch 8/25 | Loss: 1.0943 | Accuracy: 61.44%\n",
      "Epoch 9/25 | Loss: 1.0170 | Accuracy: 55.56%\n",
      "Epoch 10/25 | Loss: 0.9938 | Accuracy: 66.01%\n",
      "Epoch 11/25 | Loss: 0.9132 | Accuracy: 68.63%\n",
      "Epoch 12/25 | Loss: 0.8543 | Accuracy: 64.05%\n",
      "Epoch 13/25 | Loss: 0.8078 | Accuracy: 69.28%\n",
      "Epoch 14/25 | Loss: 0.6748 | Accuracy: 75.82%\n",
      "Epoch 15/25 | Loss: 0.6459 | Accuracy: 74.51%\n",
      "Epoch 16/25 | Loss: 0.6759 | Accuracy: 72.55%\n",
      "Epoch 17/25 | Loss: 0.5026 | Accuracy: 82.35%\n",
      "Epoch 18/25 | Loss: 0.5354 | Accuracy: 81.70%\n",
      "Epoch 19/25 | Loss: 0.4734 | Accuracy: 83.66%\n",
      "Epoch 20/25 | Loss: 0.4471 | Accuracy: 83.66%\n",
      "Epoch 21/25 | Loss: 0.3456 | Accuracy: 88.89%\n",
      "Epoch 22/25 | Loss: 0.2991 | Accuracy: 90.85%\n",
      "Epoch 23/25 | Loss: 0.3135 | Accuracy: 88.89%\n",
      "Epoch 24/25 | Loss: 0.2570 | Accuracy: 94.12%\n",
      "Epoch 25/25 | Loss: 0.2130 | Accuracy: 93.46%\n"
     ]
    }
   ],
   "source": [
    "import torch.optim as optim\n",
    "\n",
    "device = torch.device(\"cuda\" if torch.cuda.is_available() else \"cpu\")\n",
    "model = model.to(device)\n",
    "\n",
    "criterion = nn.CrossEntropyLoss()\n",
    "optimizer = optim.Adam(model.parameters(), lr=0.001)\n",
    "\n",
    "epochs = 25\n",
    "for epoch in range(epochs):\n",
    "    running_loss = 0.0\n",
    "    correct = 0\n",
    "    total = 0\n",
    "\n",
    "    model.train()\n",
    "    for images, labels in train_loader:\n",
    "        images, labels = images.to(device), labels.to(device)\n",
    "\n",
    "        optimizer.zero_grad()\n",
    "        outputs = model(images)\n",
    "        loss = criterion(outputs, labels)\n",
    "        loss.backward()\n",
    "        optimizer.step()\n",
    "\n",
    "        running_loss += loss.item()\n",
    "        _, predicted = torch.max(outputs, 1)\n",
    "        total += labels.size(0)\n",
    "        correct += (predicted == labels).sum().item()\n",
    "\n",
    "    print(f\"Epoch {epoch+1}/{epochs} | Loss: {running_loss/len(train_loader):.4f} | Accuracy: {100*correct/total:.2f}%\")\n"
   ]
  },
  {
   "cell_type": "markdown",
   "id": "53d97484",
   "metadata": {},
   "source": [
    "Testing"
   ]
  },
  {
   "cell_type": "code",
   "execution_count": 5,
   "id": "d86ae288",
   "metadata": {},
   "outputs": [
    {
     "name": "stdout",
     "output_type": "stream",
     "text": [
      "Test Accuracy: 80.95%\n"
     ]
    }
   ],
   "source": [
    "model.eval()\n",
    "correct = 0\n",
    "total = 0\n",
    "\n",
    "with torch.no_grad():\n",
    "    for images, labels in test_loader:\n",
    "        images, labels = images.to(device), labels.to(device)\n",
    "        outputs = model(images)\n",
    "        _, predicted = torch.max(outputs, 1)\n",
    "        total += labels.size(0)\n",
    "        correct += (predicted == labels).sum().item()\n",
    "\n",
    "print(f\"Test Accuracy: {100*correct/total:.2f}%\")\n"
   ]
  },
  {
   "cell_type": "markdown",
   "id": "1c63e2da",
   "metadata": {},
   "source": [
    "Final Predict"
   ]
  },
  {
   "cell_type": "code",
   "execution_count": 6,
   "id": "3f0d307f",
   "metadata": {},
   "outputs": [
    {
     "name": "stdout",
     "output_type": "stream",
     "text": [
      "2Thousandnote\n"
     ]
    }
   ],
   "source": [
    "from PIL import Image\n",
    "\n",
    "def predict_image(img_path, model, transform):\n",
    "    model.eval()\n",
    "    image = Image.open(img_path).convert('RGB')\n",
    "    image = transform(image).unsqueeze(0).to(device)\n",
    "\n",
    "    with torch.no_grad():\n",
    "        outputs = model(image)\n",
    "        _, predicted = torch.max(outputs, 1)\n",
    "    \n",
    "    return train_data.classes[predicted.item()]\n",
    "\n",
    "print(predict_image(\"1.jpg\", model, transform))\n"
   ]
  },
  {
   "cell_type": "code",
   "execution_count": 8,
   "id": "ade523dd",
   "metadata": {},
   "outputs": [],
   "source": [
    "torch.save(model, 'currency_cnn_model.pth')\n"
   ]
  },
  {
   "cell_type": "code",
   "execution_count": null,
   "id": "5fa7cb1e",
   "metadata": {},
   "outputs": [],
   "source": []
  }
 ],
 "metadata": {
  "kernelspec": {
   "display_name": "base",
   "language": "python",
   "name": "python3"
  },
  "language_info": {
   "codemirror_mode": {
    "name": "ipython",
    "version": 3
   },
   "file_extension": ".py",
   "mimetype": "text/x-python",
   "name": "python",
   "nbconvert_exporter": "python",
   "pygments_lexer": "ipython3",
   "version": "3.13.5"
  }
 },
 "nbformat": 4,
 "nbformat_minor": 5
}
